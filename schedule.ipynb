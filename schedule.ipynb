{
 "cells": [
  {
   "cell_type": "markdown",
   "metadata": {},
   "source": [
    "In this project, we want to use SQL to make a database of students' schedules and use a database of major requirements for data science majors to make a schdule builder. We want to take advantage of relational databases here. Let's start by structuring out our databases. "
   ]
  },
  {
   "cell_type": "code",
   "execution_count": 103,
   "metadata": {},
   "outputs": [],
   "source": [
    "from sqlalchemy import create_engine\n",
    "import psycopg2\n",
    "\n",
    "db_params = {\n",
    "    \"dbname\": \"postgres\",\n",
    "    \"user\": \"madikloberdanz\",\n",
    "    \"password\": \"3141\",\n",
    "    \"host\": \"localhost\",\n",
    "    \"port\": \"5433\"\n",
    "}\n",
    "\n",
    "# Create a SQLAlchemy engine to connect to the PostgreSQL database\n",
    "engine = create_engine(f\"postgresql+psycopg2://{db_params['user']}:{db_params['password']}@{db_params['host']}:{db_params['port']}/{db_params['dbname']}\")\n",
    "\n",
    "# Establish a connection to the PostgreSQL database\n",
    "conn = psycopg2.connect(**db_params)\n",
    "\n",
    "# Create a cursor object for executing SQL queries\n",
    "c = conn.cursor()\n",
    "\n",
    "\n",
    "# Drop the table if it exists\n",
    "# c.execute(\"DROP TABLE IF EXISTS Courses\")\n",
    "\n",
    "# Courses Table\n",
    "c.execute(\"\"\"CREATE TABLE IF NOT EXISTS Courses (\n",
    "    course_id SERIAL PRIMARY KEY,\n",
    "    course_name TEXT,\n",
    "    prereq_id INT[],\n",
    "    term_offered TEXT[],\n",
    "    time_offered TEXT[])\"\"\")\n",
    "\n",
    "\n",
    "# Establish relations\n",
    "# c.execute(\"\"\"ALTER TABLE Courses\n",
    "# DROP CONSTRAINT IF EXISTS fk_prerequisite;\n",
    "\n",
    "# ALTER TABLE Courses\n",
    "# ADD CONSTRAINT fk_prerequisite\n",
    "# FOREIGN KEY (prereq_id)\n",
    "# REFERENCES Courses (course_id)\n",
    "# NOT VALID;\n",
    "\n",
    "# \"\"\")\n"
   ]
  },
  {
   "cell_type": "markdown",
   "metadata": {},
   "source": [
    "Now that we've established our two tables and the relationships between them, let's make sure we are able to insert students, pull information from a student, update a student's information (for example, if they complete a class or change their schedule), and delete a student (if they drop the major)."
   ]
  },
  {
   "cell_type": "code",
   "execution_count": 104,
   "metadata": {},
   "outputs": [],
   "source": [
    "# Add a student\n",
    "def add_student(student_id, student_name, years_left, earned_credits, ongoing_credits):\n",
    "    query = \"\"\"INSERT INTO Students (student_id, student_name, years_left, earned_credits, ongoing_credits)\n",
    "               VALUES (%s, %s, %s, %s, %s)\"\"\"\n",
    "    values = (student_id, student_name, years_left, earned_credits, ongoing_credits)\n",
    "    c.execute(query, values)\n",
    "    conn.commit()\n",
    "\n",
    "# Get information about a student\n",
    "def get_earned_credits(student_id):\n",
    "    query = \"\"\"SELECT \n",
    "            ARRAY(earned_credits) \n",
    "            FROM Students WHERE student_id=%s\"\"\"\n",
    "    values = (student_id,)\n",
    "    c.execute(query, values)\n",
    "    return c.fetchall()\n",
    "\n",
    "# Update student info\n",
    "def update_courses(student_id, course_taken):\n",
    "    query = \"\"\"UPDATE Students\n",
    "               SET earned_credits = ARRAY_APPEND(earned_credits, %s)\n",
    "               SET ongoing_credits = ARRAY_REMOVE(earned_credits, %s)\n",
    "               WHERE student_id = %s\"\"\"\n",
    "    values = (course_taken, student_id)\n",
    "    c.execute(query, values)\n",
    "    conn.commit()\n",
    "\n",
    "# Delete a student\n",
    "def delete_student(student_id):\n",
    "    query = \"\"\"DELETE FROM Students WHERE student_id=%s\"\"\"\n",
    "    values = (student_id,)\n",
    "    c.execute(query, values)\n",
    "    conn.commit()\n",
    "\n"
   ]
  },
  {
   "cell_type": "markdown",
   "metadata": {},
   "source": [
    "Of course, we also need to make similar functions for the classes database."
   ]
  },
  {
   "cell_type": "code",
   "execution_count": 105,
   "metadata": {},
   "outputs": [],
   "source": [
    "# Add a class\n",
    "def add_course(course_name, prereq_names, term_offered, time_offered):\n",
    "    # Check if the course has already been added\n",
    "    c.execute(\"SELECT course_id FROM Courses WHERE course_name = %s\", (course_name,))\n",
    "    existing_course = c.fetchone()\n",
    "    \n",
    "    if existing_course:\n",
    "        print(f\"Course '{course_name}' aready exists\")\n",
    "        return \n",
    "    \n",
    "    # If there are no pre-reqs, make the pre-req ID NULL\n",
    "    if prereq_names is None:\n",
    "        query = \"\"\"INSERT INTO Courses(course_name, prereq_id, term_offered, time_offered)\n",
    "               VALUES (%s, NULL, %s, %s)\"\"\"\n",
    "        values = (course_name, term_offered, time_offered)\n",
    "    else:\n",
    "        # Fetch the prereq_ids for the given prereq_names\n",
    "        prereq_ids = []\n",
    "        for prereq_name in prereq_names:\n",
    "            c.execute(\"SELECT course_id FROM Courses WHERE course_name = %s\", (prereq_name,))\n",
    "            prereq_id = c.fetchone()\n",
    "            if prereq_id:\n",
    "                prereq_ids.append(prereq_id[0])\n",
    "\n",
    "        # Insert the new course with multiple prereq_ids\n",
    "        query = \"\"\"INSERT INTO Courses(course_name, prereq_id, term_offered, time_offered)\n",
    "                VALUES (%s, %s, %s, %s)\"\"\"\n",
    "        values = (course_name, prereq_ids, term_offered, time_offered)\n",
    "\n",
    "\n",
    "    try:\n",
    "        c.execute(query, values)\n",
    "        conn.commit()\n",
    "        print(\"Course added successfully!\")\n",
    "    except (Exception, psycopg2.Error) as error:\n",
    "        print(\"Error adding course:\", error)\n",
    "\n",
    "\n",
    "# Get all information about a course\n",
    "def get_course_info(course_name):\n",
    "    query = \"\"\"SELECT * \n",
    "            FROM Courses WHERE course_name=%s\"\"\"\n",
    "    values = (course_name,)\n",
    "    c.execute(query, values)\n",
    "    return c.fetchall()\n",
    "\n",
    "# Update course info\n",
    "def update_term_and_time(course_name, new_term, new_time):\n",
    "    query = \"\"\"UPDATE Courses\n",
    "               SET term_offered=%s\n",
    "               SET time_offered=%s\n",
    "               WHERE course_name = %s\"\"\"\n",
    "    values = (new_term, new_time, course_name)\n",
    "    c.execute(query, values)\n",
    "    conn.commit()\n",
    "\n",
    "# Delete a course\n",
    "def delete_course(course_name):\n",
    "    query = \"\"\"DELETE FROM Courses WHERE course_name=%s\"\"\"\n",
    "    values = (course_name,)\n",
    "    c.execute(query, values)\n",
    "    conn.commit()"
   ]
  },
  {
   "cell_type": "markdown",
   "metadata": {},
   "source": [
    "Now, let's actually make a funtion actaully build a schedule for a student, checking for time conflicts and pre-requisites. Right now, this function isn't very advanced and it doesn't optimize anything. Later down the line, we can make a more complicated schedule builder."
   ]
  },
  {
   "cell_type": "code",
   "execution_count": 106,
   "metadata": {},
   "outputs": [],
   "source": [
    "def make_schedule(student_id):\n",
    "    query = (\"\"\"SELECT course_name\n",
    "    FROM Courses\n",
    "    WHERE prereq_id IS NULL\n",
    "    OR prereq_id IN (\n",
    "        SELECT course_id\n",
    "        FROM Courses\n",
    "        WHERE course_id IN (SELECT course_id FROM Courses WHERE prereq_id IS NULL)\n",
    "        WHERE student_id=%s\n",
    "    )\"\"\")\n",
    "    values = (student_id,)\n",
    "    c.execute(query, values)\n"
   ]
  },
  {
   "cell_type": "markdown",
   "metadata": {},
   "source": [
    "In order to actually be able to use the schedule builder, we need to insert some courses from the University of Oregon's [Data Science major requirements page](https://scds.uoregon.edu/ds/undergraduate-program/major-requirements)."
   ]
  },
  {
   "cell_type": "code",
   "execution_count": 107,
   "metadata": {},
   "outputs": [
    {
     "name": "stdout",
     "output_type": "stream",
     "text": [
      "Course 'DSCI 101' aready exists\n",
      "Course 'DSCI 102' aready exists\n"
     ]
    },
    {
     "data": {
      "text/plain": [
       "[(11, 'DSCI 102', [1], ['Winter', 'Spring'], ['11:20AM'])]"
      ]
     },
     "execution_count": 107,
     "metadata": {},
     "output_type": "execute_result"
    }
   ],
   "source": [
    "add_course(\"DSCI 101\", None, [\"Fall\", \"Winter\"], [\"11:20AM\"])\n",
    "add_course(\"DSCI 102\", [\"DSCI 101\"], [\"Winter\", \"Spring\"], [\"11:20AM\"])\n",
    "get_course_info(\"DSCI 102\")"
   ]
  },
  {
   "cell_type": "markdown",
   "metadata": {},
   "source": [
    "Now that we know that we can add some courses with and without pre-reqs, let's add a lot of courses at once."
   ]
  },
  {
   "cell_type": "code",
   "execution_count": 108,
   "metadata": {},
   "outputs": [
    {
     "name": "stdout",
     "output_type": "stream",
     "text": [
      "Course 'CS 210' aready exists\n",
      "Course 'CS 211' aready exists\n",
      "Course 'CS 212' aready exists\n",
      "Course 'MATH 251' aready exists\n",
      "Course 'MATH 252' aready exists\n",
      "Course 'MATH 341' aready exists\n",
      "Course 'MATH 342' aready exists\n",
      "Course 'DSCI 311' aready exists\n"
     ]
    }
   ],
   "source": [
    "add_course(\"CS 210\", None, [\"Fall\", \"Winter\"], [\"10:00AM\"])\n",
    "add_course(\"CS 211\", [\"CS 210\"], [\"Winter\", \"Spring\"], [\"10:00AM\"])\n",
    "add_course(\"CS 212\", [\"CS 210\", \"CS 211\"], [\"Fall\", \"Spring\"], [\"10:00AM\"])\n",
    "add_course(\"MATH 251\", None, [\"Fall\", \"Winter\", \"Spring\", \"Summer\"], [\"9:00AM\", \"4:00PM\"])\n",
    "add_course(\"MATH 252\", [\"MATH 251\"], [\"Fall\", \"Winter\", \"Spring\", \"Summer\"], [\"9:00AM\", \"4:00PM\"])\n",
    "add_course(\"MATH 341\", [\"MATH 252\"], [\"Fall\", \"Winter\", \"Summer\"], [\"9:00AM\", \"12:00PM\"])\n",
    "add_course(\"MATH 342\", [\"MATH 341\"], [\"Winter\", \"Spring\", \"Summer\"], [\"9:00AM\", \"12:00PM\"])\n",
    "add_course(\"DSCI 311\", [\"DSCI 102\", \"CS 211\", \"MATH 252\", \"MATH 342\"], [\"Fall\"], [\"11:20AM\"])"
   ]
  }
 ],
 "metadata": {
  "kernelspec": {
   "display_name": "Python 3",
   "language": "python",
   "name": "python3"
  },
  "language_info": {
   "codemirror_mode": {
    "name": "ipython",
    "version": 3
   },
   "file_extension": ".py",
   "mimetype": "text/x-python",
   "name": "python",
   "nbconvert_exporter": "python",
   "pygments_lexer": "ipython3",
   "version": "3.9.6"
  },
  "orig_nbformat": 4
 },
 "nbformat": 4,
 "nbformat_minor": 2
}
