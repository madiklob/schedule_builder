{
 "cells": [
  {
   "cell_type": "markdown",
   "metadata": {},
   "source": [
    "In this project, we want to use SQL to make a database of students' schedules and use a database of major requirements for data science majors to make a schdule builder. We want to take advantage of relational databases here. Let's start by structuring out our databases. "
   ]
  },
  {
   "cell_type": "code",
   "execution_count": 13,
   "metadata": {},
   "outputs": [],
   "source": [
    "from sqlalchemy import create_engine\n",
    "import psycopg2\n",
    "\n",
    "db_params = {\n",
    "    \"dbname\": \"postgres\",\n",
    "    \"user\": \"madikloberdanz\",\n",
    "    \"password\": \"3141\",\n",
    "    \"host\": \"localhost\",\n",
    "    \"port\": \"5433\"\n",
    "}\n",
    "\n",
    "# Create a SQLAlchemy engine to connect to the PostgreSQL database\n",
    "engine = create_engine(f\"postgresql+psycopg2://{db_params['user']}:{db_params['password']}@{db_params['host']}:{db_params['port']}/{db_params['dbname']}\")\n",
    "\n",
    "# Establish a connection to the PostgreSQL database\n",
    "conn = psycopg2.connect(**db_params)\n",
    "\n",
    "# Create a cursor object for executing SQL queries\n",
    "c = conn.cursor()\n",
    "\n",
    "# Courses Table\n",
    "c.execute(\"\"\"CREATE TABLE Courses (\n",
    "    course_id INT PRIMARY KEY,\n",
    "    course_name TEXT,\n",
    "    prereq_id INT,\n",
    "    term_offered TEXT,\n",
    "    time_offered TEXT)\"\"\")\n",
    "\n",
    "# Students Table - the earned_credits and ongoing_credits fields are arrays\n",
    "c.execute(\"\"\"CREATE TABLE Students (\n",
    "    student_id INT PRIMARY KEY,\n",
    "    student_name TEXT,\n",
    "    years_left INT,\n",
    "    earned_credits TEXT[],\n",
    "    ongoing_credits TEXT[])\"\"\")\n",
    "\n",
    "# Establish relations\n",
    "c.execute(\"\"\"ALTER TABLE Courses\n",
    "ADD CONSTRAINT fk_prerequisite\n",
    "FOREIGN KEY (prereq_id)\n",
    "REFERENCES Courses (course_id)\"\"\")\n"
   ]
  },
  {
   "cell_type": "markdown",
   "metadata": {},
   "source": [
    "Now that we've established our two tables and the relationships between them, let's make sure we are able to insert students, pull information from a student, update a student's information (for example, if they complete a class or change their schedule), and delete a student (if they drop the major)."
   ]
  },
  {
   "cell_type": "code",
   "execution_count": 14,
   "metadata": {},
   "outputs": [],
   "source": [
    "# Add a student\n",
    "def add_student(student_id, student_name, years_left, earned_credits, ongoing_credits):\n",
    "    query = \"\"\"INSERT INTO Students (student_id, student_name, years_left, earned_credits, ongoing_credits)\n",
    "               VALUES (%s, %s, %s, %s, %s)\"\"\"\n",
    "    values = (student_id, student_name, years_left, earned_credits, ongoing_credits)\n",
    "    c.execute(query, values)\n",
    "    conn.commit()\n",
    "\n",
    "# Get information about a student\n",
    "def get_earned_credits(student_id):\n",
    "    query = \"\"\"SELECT \n",
    "            ARRAY(earned_credits) \n",
    "            FROM Students WHERE student_id=%s\"\"\"\n",
    "    values = (student_id,)\n",
    "    c.execute(query, values)\n",
    "    return c.fetchall()\n",
    "\n",
    "# Update student info\n",
    "def update_courses(student_id, course_taken):\n",
    "    query = \"\"\"UPDATE Students\n",
    "               SET earned_credits = ARRAY_APPEND(earned_credits, %s)\n",
    "               SET ongoing_credits = ARRAY_REMOVE(earned_credits, %s)\n",
    "               WHERE student_id = %s\"\"\"\n",
    "    values = (course_taken, student_id)\n",
    "    c.execute(query, values)\n",
    "    conn.commit()\n",
    "\n",
    "# Delete a student\n",
    "def delete_student(student_id):\n",
    "    query = \"\"\"DELETE FROM Students WHERE student_id=%s\"\"\"\n",
    "    values = (student_id,)\n",
    "    c.execute(query, values)\n",
    "    conn.commit()\n",
    "\n"
   ]
  },
  {
   "cell_type": "markdown",
   "metadata": {},
   "source": [
    "Of course, we also need to make similar functions for the classes database."
   ]
  },
  {
   "cell_type": "code",
   "execution_count": null,
   "metadata": {},
   "outputs": [],
   "source": [
    "# Courses Table\n",
    "c.execute(\"\"\"CREATE TABLE Courses (\n",
    "    course_id INT PRIMARY KEY,\n",
    "    course_name TEXT,\n",
    "    prereq_id INT[],\n",
    "    term_offered TEXT[],\n",
    "    time_offered TEXT[])\"\"\")\n",
    "\n",
    "# Add a class\n",
    "def add_course(course_id, course_name, prereq_id, term_offered, time_offered):\n",
    "    query = \"\"\"INSERT INTO Courses (course_id, course_name, prereq_id, term_offered, time_offered))\n",
    "               VALUES (%s, %s, %s, %s, %s)\"\"\"\n",
    "    values = (course_id, course_name, prereq_id, term_offered, time_offered)\n",
    "    c.execute(query, values)\n",
    "    conn.commit()\n",
    "\n",
    "# Get all information about a course\n",
    "def get_course_info(course_id):\n",
    "    query = \"\"\"SELECT * \n",
    "            FROM Courses WHERE course_id=%s\"\"\"\n",
    "    values = (course_id,)\n",
    "    c.execute(query, values)\n",
    "    return c.fetchall()\n",
    "\n",
    "# Update student info\n",
    "def update_courses(student_id, course_taken):\n",
    "    query = \"\"\"UPDATE Students\n",
    "               SET earned_credits = ARRAY_APPEND(earned_credits, %s)\n",
    "               SET ongoing_credits = ARRAY_REMOVE(earned_credits, %s)\n",
    "               WHERE student_id = %s\"\"\"\n",
    "    values = (course_taken, student_id)\n",
    "    c.execute(query, values)\n",
    "    conn.commit()\n",
    "\n",
    "# Delete a student\n",
    "def delete_student(student_id):\n",
    "    query = \"\"\"DELETE FROM Students WHERE student_id=%s\"\"\"\n",
    "    values = (student_id,)\n",
    "    c.execute(query, values)\n",
    "    conn.commit()"
   ]
  },
  {
   "cell_type": "markdown",
   "metadata": {},
   "source": [
    "Now, let's actually make a schedule for a student, checking for time conflicts and pre-requisites."
   ]
  },
  {
   "cell_type": "code",
   "execution_count": 16,
   "metadata": {},
   "outputs": [],
   "source": [
    "def make_schedule(student_id):\n",
    "    query = (\"\"\"SELECT course_name\n",
    "    FROM Courses\n",
    "    WHERE prereq_id IS NULL\n",
    "    OR prereq_id IN (\n",
    "        SELECT course_id\n",
    "        FROM Courses\n",
    "        WHERE course_id IN (SELECT course_id FROM Courses WHERE prereq_id IS NULL)\n",
    "        WHERE student_id=%s\n",
    "    )\"\"\")\n",
    "    values = (student_id,)\n",
    "    c.execute(query, values)\n"
   ]
  },
  {
   "cell_type": "code",
   "execution_count": null,
   "metadata": {},
   "outputs": [],
   "source": []
  }
 ],
 "metadata": {
  "kernelspec": {
   "display_name": "Python 3",
   "language": "python",
   "name": "python3"
  },
  "language_info": {
   "codemirror_mode": {
    "name": "ipython",
    "version": 3
   },
   "file_extension": ".py",
   "mimetype": "text/x-python",
   "name": "python",
   "nbconvert_exporter": "python",
   "pygments_lexer": "ipython3",
   "version": "3.9.6"
  },
  "orig_nbformat": 4
 },
 "nbformat": 4,
 "nbformat_minor": 2
}
